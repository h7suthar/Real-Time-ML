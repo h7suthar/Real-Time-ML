{
  "nbformat": 4,
  "nbformat_minor": 0,
  "metadata": {
    "colab": {
      "name": "Homework#2-2.1.ipynb",
      "provenance": []
    },
    "kernelspec": {
      "name": "python3",
      "display_name": "Python 3"
    },
    "language_info": {
      "name": "python"
    },
    "accelerator": "GPU"
  },
  "cells": [
    {
      "cell_type": "code",
      "execution_count": 1,
      "metadata": {
        "id": "nNMDk9u2AK4q"
      },
      "outputs": [],
      "source": [
        "import numpy as np\n",
        "import torch\n",
        "import torch.nn as nn\n",
        "import torch.optim as optim\n",
        "from torchvision import datasets\n",
        "from torchvision import transforms\n",
        "%matplotlib inline\n",
        "from matplotlib import pyplot as plt\n",
        "\n",
        "torch.set_printoptions(edgeitems=2, linewidth=75)\n",
        "data_path = '../data-unversioned/p1ch7/'"
      ]
    },
    {
      "cell_type": "code",
      "source": [
        "cifar10 = datasets.CIFAR10(data_path, train=True, download= True)           # Training dataset....\n",
        "cifar10_val = datasets.CIFAR10(data_path, train=False, download= True)      # Dataset for validation...."
      ],
      "metadata": {
        "id": "1lFgaqcjNp8J"
      },
      "execution_count": null,
      "outputs": []
    },
    {
      "cell_type": "code",
      "source": [
        "class_names = ['airplane','automobile','bird','cat','deer','dog','frog','horse','ship','truck'] # class definations..."
      ],
      "metadata": {
        "id": "aksw2JuB7ggc"
      },
      "execution_count": 3,
      "outputs": []
    },
    {
      "cell_type": "code",
      "source": [
        "# Splitting dataset into training and validation set...\n",
        "\n",
        "# Trainig data...\n",
        "cifar10_Train = datasets.CIFAR10(\n",
        "    data_path, train=True, download=False,\n",
        "    transform=transforms.Compose([\n",
        "        transforms.ToTensor(),\n",
        "        transforms.Normalize((0.4915, 0.4823, 0.4468),\n",
        "                             (0.2470, 0.2435, 0.2616))\n",
        "    ]))\n",
        "\n",
        "# Validation data...\n",
        "transformed_cifar10_Val = datasets.CIFAR10(\n",
        "    data_path, train=False, download=False,\n",
        "    transform=transforms.Compose([\n",
        "        transforms.ToTensor(),\n",
        "        transforms.Normalize((0.4915, 0.4823, 0.4468),\n",
        "                             (0.2470, 0.2435, 0.2616))\n",
        "    ]))\n"
      ],
      "metadata": {
        "id": "j5v5PGpxR2kE"
      },
      "execution_count": 4,
      "outputs": []
    },
    {
      "cell_type": "code",
      "source": [
        "# Hyperparameters...\n",
        "learning_Rate = 1e-2\n",
        "num_epochs = 300\n",
        "loss_fnc = nn.CrossEntropyLoss()\n",
        "\n",
        "# Defining the model...\n",
        "model21 = nn.Sequential(\n",
        "                       nn.Linear(3072, 512),\n",
        "                       nn.Tanh(),\n",
        "                       nn.Linear(512,10))\n",
        "\n",
        "# Optimizer function...\n",
        "optimizer = optim.SGD(model21.parameters(), lr = learning_Rate)"
      ],
      "metadata": {
        "id": "uELgGbbKSABS"
      },
      "execution_count": 5,
      "outputs": []
    },
    {
      "cell_type": "markdown",
      "source": [
        "#Training Observations:\n",
        "\n",
        "- It took about 56m.58s to train with 300 epochs on colab, with GPU accelration.\n",
        "- It took about 2:30 hrs to train with 300 epochs on colab, without GPU accelration.\n",
        "- It took about 35m to train with 200 epochs on colab, with GPU accelration.\n",
        "- Training loss at 200 epochs is less than 0.012718.\n",
        "- Training loss at 300 epochs is less then 0.006778."
      ],
      "metadata": {
        "id": "kRN5r56r5LxR"
      }
    },
    {
      "cell_type": "code",
      "source": [
        "# Dividing dataset into mini-batches...\n",
        "train_mbload = torch.utils.data.DataLoader(cifar10_Train, batch_size = 64, shuffle=True)\n",
        "\n",
        "# Training loop...\n",
        "for epoch in range(num_epochs):\n",
        "    for imgs, labels in train_mbload:\n",
        "        outputs = model21(imgs.view(imgs.shape[0], -1))\n",
        "        loss = loss_fnc(outputs, labels)\n",
        "        optimizer.zero_grad()\n",
        "        loss.backward()\n",
        "        optimizer.step()\n",
        "    \n",
        "    if epoch == 1 or epoch % 30 == 0:\n",
        "       print(\"Epoch: %d, Loss: %f\" % (epoch, float(loss)))"
      ],
      "metadata": {
        "id": "XNbEdWB5r0It",
        "colab": {
          "base_uri": "https://localhost:8080/"
        },
        "outputId": "ba29b0ba-63e4-47dc-dd88-fddbbb867349"
      },
      "execution_count": 6,
      "outputs": [
        {
          "output_type": "stream",
          "name": "stdout",
          "text": [
            "Epoch: 0, Loss: 1.815016\n",
            "Epoch: 1, Loss: 1.910540\n",
            "Epoch: 30, Loss: 0.910494\n",
            "Epoch: 60, Loss: 0.169447\n",
            "Epoch: 90, Loss: 0.042646\n",
            "Epoch: 120, Loss: 0.027814\n",
            "Epoch: 150, Loss: 0.016693\n",
            "Epoch: 180, Loss: 0.012718\n",
            "Epoch: 210, Loss: 0.010674\n",
            "Epoch: 240, Loss: 0.007415\n",
            "Epoch: 270, Loss: 0.006778\n"
          ]
        }
      ]
    },
    {
      "cell_type": "markdown",
      "source": [
        "## Accuracy and Analysis:\n",
        "\n",
        "- As, mentioned below Trianing Accuracy: 1.000, and Validation Accuracy: 0.462200.\n",
        "- Its apparent from accuracy values that developed model21 is overfitting. As it has perfect accuracy for training set and bad accuracy on validation set.\n",
        "- One reason for bad accuracy on validation set is that, model might have memorized and fix the paramter values learned on training set.\n",
        "- Also, absense of transiation invariance in fully connected model might have effected accuracy on evaluation set.  \n"
      ],
      "metadata": {
        "id": "wTsosYto8AfJ"
      }
    },
    {
      "cell_type": "code",
      "source": [
        "# Checking the accuracy of model...\n",
        "train_accuload = torch.utils.data.DataLoader(cifar10_Train, batch_size = 64, shuffle=False)\n",
        "Valid_accuload = torch.utils.data.DataLoader(transformed_cifar10_Val, batch_size = 64, shuffle=False)\n",
        "\n",
        "# Initializing the variables...\n",
        "training_correct = 0\n",
        "validation_correct = 0\n",
        "training_total = 0\n",
        "validation_total = 0\n",
        "\n",
        "# Checking on the training dataset...\n",
        "with torch.no_grad():\n",
        "  for imgs, labels in train_accuload:\n",
        "    train_results = model21(imgs.view(imgs.shape[0],-1))\n",
        "    _, train_classified = torch.max(train_results, dim =1)\n",
        "    training_total += labels.shape[0]\n",
        "    training_correct += int((train_classified == labels).sum())\n",
        "\n",
        "print('Training Accuracy: %f' % (training_correct/training_total))\n",
        "\n",
        "# Checking on the validation dataset...\n",
        "with torch.no_grad():\n",
        "  for imgs, labels in Valid_accuload:\n",
        "    Valid_results = model21(imgs.view(imgs.shape[0],-1))\n",
        "    _, Valid_classified = torch.max(Valid_results, dim =1)\n",
        "    validation_total += labels.shape[0]\n",
        "    validation_correct += int((Valid_classified == labels).sum())\n",
        "\n",
        "print('Validation Accuracy: %f' % (validation_correct/validation_total))"
      ],
      "metadata": {
        "colab": {
          "base_uri": "https://localhost:8080/"
        },
        "id": "8YNXqyAEy1kW",
        "outputId": "669bb434-4a0f-4739-9bba-2ad0d03df5c1"
      },
      "execution_count": 7,
      "outputs": [
        {
          "output_type": "stream",
          "name": "stdout",
          "text": [
            "Training Accuracy: 1.000000\n",
            "Validation Accuracy: 0.462200\n"
          ]
        }
      ]
    }
  ]
}