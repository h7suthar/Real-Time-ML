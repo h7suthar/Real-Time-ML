{
  "nbformat": 4,
  "nbformat_minor": 0,
  "metadata": {
    "colab": {
      "name": "Homework#2-2.2.ipynb",
      "provenance": [],
      "collapsed_sections": []
    },
    "kernelspec": {
      "name": "python3",
      "display_name": "Python 3"
    },
    "language_info": {
      "name": "python"
    }
  },
  "cells": [
    {
      "cell_type": "code",
      "execution_count": 3,
      "metadata": {
        "id": "YVqmbZIdaiAa"
      },
      "outputs": [],
      "source": [
        "import numpy as np\n",
        "import torch\n",
        "import torch.nn as nn\n",
        "import torch.optim as optim\n",
        "from torchvision import datasets\n",
        "from torchvision import transforms\n",
        "\n",
        "torch.set_printoptions(edgeitems=2, linewidth=75)\n",
        "data_path = '../data-unversioned/p1ch7/'"
      ]
    },
    {
      "cell_type": "code",
      "source": [
        "cifar10 = datasets.CIFAR10(data_path, train=True, download= True)           # Training dataset....\n",
        "cifar10_val = datasets.CIFAR10(data_path, train=False, download= True)      # Dataset for validation...."
      ],
      "metadata": {
        "id": "v2fbhBYZa3qf"
      },
      "execution_count": null,
      "outputs": []
    },
    {
      "cell_type": "code",
      "source": [
        "class_names = ['airplane','automobile','bird','cat','deer','dog','frog','horse','ship','truck'] # class definations..."
      ],
      "metadata": {
        "id": "xBtAAe_ka-aK"
      },
      "execution_count": 5,
      "outputs": []
    },
    {
      "cell_type": "code",
      "source": [
        "# Splitting dataset into training and validation set...\n",
        "\n",
        "# Trainig data...\n",
        "cifar10_Train = datasets.CIFAR10(\n",
        "    data_path, train=True, download=False,\n",
        "    transform=transforms.Compose([\n",
        "        transforms.ToTensor(),\n",
        "        transforms.Normalize((0.4915, 0.4823, 0.4468),\n",
        "                             (0.2470, 0.2435, 0.2616))\n",
        "    ]))\n",
        "\n",
        "# Validation data...\n",
        "cifar10_Val = datasets.CIFAR10(\n",
        "    data_path, train=False, download=False,\n",
        "    transform=transforms.Compose([\n",
        "        transforms.ToTensor(),\n",
        "        transforms.Normalize((0.4915, 0.4823, 0.4468),\n",
        "                             (0.2470, 0.2435, 0.2616))\n",
        "    ]))\n"
      ],
      "metadata": {
        "id": "ky0CnZvKbODU"
      },
      "execution_count": 6,
      "outputs": []
    },
    {
      "cell_type": "code",
      "source": [
        "# Hyperparameters...\n",
        "learning_Rate = 1e-2\n",
        "num_epochs = 300\n",
        "loss_fnc = nn.CrossEntropyLoss()\n",
        "\n",
        "# Defining the model...\n",
        "model22 = nn.Sequential(\n",
        "                       nn.Linear(3072, 1024),\n",
        "                       nn.Tanh(),\n",
        "                       nn.Linear(1024, 512),\n",
        "                       nn.Tanh(),\n",
        "                       nn.Linear(512, 128),\n",
        "                       nn.Tanh(),\n",
        "                       nn.Linear(128,10))\n",
        "\n",
        "# Optimizer function...\n",
        "optimizer = optim.SGD(model22.parameters(), lr = learning_Rate)"
      ],
      "metadata": {
        "id": "Ski1AOO5bPs1"
      },
      "execution_count": 7,
      "outputs": []
    },
    {
      "cell_type": "markdown",
      "source": [
        "## Training Observations:\n",
        "\n",
        "- It took about 2h 13m 46s to train with 300 epochs on colab, with GPU accelration.\n",
        "- It took about 1h 35m 30s to train with 200 epochs on colab, with GPU accelration.\n",
        "- Training loss at 200 epochs is less than 0.000425.\n",
        "- Training loss at 300 epochs about 0.000234."
      ],
      "metadata": {
        "id": "sQy3B-NUI8mR"
      }
    },
    {
      "cell_type": "code",
      "source": [
        "# Dividing dataset into mini-batches...\n",
        "train_mbload = torch.utils.data.DataLoader(cifar10_Train, batch_size = 64, shuffle=True)\n",
        "\n",
        "# Training loop...\n",
        "for epoch in range(num_epochs):\n",
        "    for imgs, labels in train_mbload:\n",
        "        outputs = model22(imgs.view(imgs.shape[0], -1))\n",
        "        loss = loss_fnc(outputs, labels)\n",
        "        optimizer.zero_grad()\n",
        "        loss.backward()\n",
        "        optimizer.step()\n",
        "    \n",
        "    if epoch == 1 or epoch % 30 == 0 or epoch == 299:\n",
        "       print(\"Epoch: %d, Loss: %f\" % (epoch, float(loss)))"
      ],
      "metadata": {
        "id": "UAzBnFNcbTT2",
        "colab": {
          "base_uri": "https://localhost:8080/"
        },
        "outputId": "90d55d91-0869-489e-d125-e5cd3ac4746d"
      },
      "execution_count": 6,
      "outputs": [
        {
          "output_type": "stream",
          "name": "stdout",
          "text": [
            "Epoch: 0, Loss: 1.772933\n",
            "Epoch: 1, Loss: 2.091775\n",
            "Epoch: 30, Loss: 0.569241\n",
            "Epoch: 60, Loss: 0.006395\n",
            "Epoch: 90, Loss: 0.002145\n",
            "Epoch: 120, Loss: 0.001343\n",
            "Epoch: 150, Loss: 0.000281\n",
            "Epoch: 180, Loss: 0.000425\n",
            "Epoch: 210, Loss: 0.000318\n",
            "Epoch: 240, Loss: 0.000340\n",
            "Epoch: 270, Loss: 0.000194\n",
            "Epoch: 299, Loss: 0.000234\n"
          ]
        }
      ]
    },
    {
      "cell_type": "markdown",
      "source": [
        "## Accuracy and Analysis:\n",
        "\n",
        "- As, mentioned below Training Accuracy: 1.000, and Validation Accuracy: 0.4730.\n",
        "- Its apparent from accuracy values that developed model22 is overfitting. As it has perfect accuracy for training set and bad accuracy on validation set.\n",
        "- One reason for bad accuracy is on validation set is that, model might have memorized and fix the parameter values learned on training set."
      ],
      "metadata": {
        "id": "77HJrh0vMB-2"
      }
    },
    {
      "cell_type": "code",
      "source": [
        "# Checking the accuracy of model...\n",
        "train_accuload = torch.utils.data.DataLoader(cifar10_Train, batch_size = 64, shuffle=False)\n",
        "Valid_accuload = torch.utils.data.DataLoader(cifar10_Val, batch_size = 64, shuffle=False)\n",
        "\n",
        "# Initializing the variables...\n",
        "training_correct = 0\n",
        "validation_correct = 0\n",
        "training_total = 0\n",
        "validation_total = 0\n",
        "\n",
        "# Checking on the training dataset...\n",
        "with torch.no_grad():\n",
        "  for imgs, labels in train_accuload:\n",
        "    train_results = model22(imgs.view(imgs.shape[0],-1))\n",
        "    _, train_classified = torch.max(train_results, dim =1)\n",
        "    training_total += labels.shape[0]\n",
        "    training_correct += int((train_classified == labels).sum())\n",
        "\n",
        "print('Training Accuracy: %f' % (training_correct/training_total))\n",
        "\n",
        "# Checking on the validation dataset...\n",
        "with torch.no_grad():\n",
        "  for imgs, labels in Valid_accuload:\n",
        "    Valid_results = model22(imgs.view(imgs.shape[0],-1))\n",
        "    _, Valid_classified = torch.max(Valid_results, dim =1)\n",
        "    validation_total += labels.shape[0]\n",
        "    validation_correct += int((Valid_classified == labels).sum())\n",
        "\n",
        "print('Validation Accuracy: %f' % (validation_correct/validation_total))"
      ],
      "metadata": {
        "id": "8VHh4xOea2bk",
        "colab": {
          "base_uri": "https://localhost:8080/"
        },
        "outputId": "068fbf9c-1f8d-447b-f6a9-2b54b9e651ff"
      },
      "execution_count": 7,
      "outputs": [
        {
          "output_type": "stream",
          "name": "stdout",
          "text": [
            "Training Accuracy: 1.000000\n",
            "Validation Accuracy: 0.473000\n"
          ]
        }
      ]
    },
    {
      "cell_type": "markdown",
      "source": [
        "## Model Size: \n",
        "\n",
        "- Total parameters in model22 are 3738506.\n",
        "- Hidden layer 1-> 3145728 weights, 1024 baise.\n",
        "- Hidden layer 2-> 524288 weights, 512 baise.\n",
        "- Hidden layer 3-> 65536 weights, 128 baise.\n",
        "- Output layer-> 1280 weights, 10 baise."
      ],
      "metadata": {
        "id": "dViFXe4nRXI9"
      }
    },
    {
      "cell_type": "code",
      "source": [
        "# Model Size in terms of parameters...\n",
        "\n",
        "Parameter_List = [para.numel() for para in model22.parameters() if para.requires_grad == True]\n",
        "sum(Parameter_List), Parameter_List"
      ],
      "metadata": {
        "colab": {
          "base_uri": "https://localhost:8080/"
        },
        "id": "-tQwC5MUO3js",
        "outputId": "b676a9d2-3352-476e-d0ba-fc04169bf968"
      },
      "execution_count": 9,
      "outputs": [
        {
          "output_type": "execute_result",
          "data": {
            "text/plain": [
              "(3738506, [3145728, 1024, 524288, 512, 65536, 128, 1280, 10])"
            ]
          },
          "metadata": {},
          "execution_count": 9
        }
      ]
    },
    {
      "cell_type": "markdown",
      "source": [
        "## Comparing with problem 1:\n",
        "\n",
        "- Compared to model12 in problem 1, model22 in this current problem is complex by far.\n",
        "- Validation acurracy of model22 in this problem is quite less compared to problem 1's model12. And model22, shows overfitting on contrary to problem 1's model12.\n",
        "- Nature of data in dataset in both the problem are quite different. That makes a major difference in validation accuracy. "
      ],
      "metadata": {
        "id": "Q5qCQKIXUI9w"
      }
    }
  ]
}